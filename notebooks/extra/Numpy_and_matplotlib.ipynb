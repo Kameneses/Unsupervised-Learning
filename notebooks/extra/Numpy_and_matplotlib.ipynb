{
 "cells": [
  {
   "cell_type": "markdown",
   "metadata": {
    "id": "_RJG5zv0AXih"
   },
   "source": [
    "# Numpy y matplotlib\n",
    "En esta notebook usaremos el paquete **NumPy** para poder hacer operaciones matématicas algo más complejas o usar definiciones de estimadores estadísticos ya definidos. Para hacer visualizaciones usaremos `matplotlib`. \n",
    "\n",
    "\n",
    "<ul style=\"list-style-type:none\">\n",
    "    <li><a href='#1.-Numpy'>1. Numpy</a></li>\n",
    "    <ul style=\"list-style-type:none\">\n",
    "        <li><a href=\"#1.1-Arrays\">1.1. Arrays</a></li>\n",
    "        <li><a href=\"#1.2-N-arrays\">1.2. N-arrays</a></li>\n",
    "        <li><a href=\"#1.3-Números-aleatorios\">1.3. Números aleatorios </a></li>\n",
    "        <li><a href=\"#1.4-Funciones\">1.4. Funciones </a></li>\n",
    "    </ul>\n",
    "    <li><a href=\"#2.-Matplotlib\">2. Matplotlib </a></li>\n",
    "     <ul style=\"list-style-type:none\">\n",
    "        <li><a href=\"#2.1-Múltiples-gráficas\">2.2. Múltiples gráficas</a></li>\n",
    "        <li><a href=\"#2.3-Histogramas\">2.3. Histogramas </a></li>\n",
    "        <li><a href=\"#2.4-Otros\">2.4. Otros </a></li>\n",
    "    </ul>\n",
    "    <li><a href=\"#3.-Ejercicios-para-practicar\">3. Ejercicios </a></li>\n",
    "    <ul style=\"list-style-type:none\">\n",
    "</ul>"
   ]
  },
  {
   "cell_type": "markdown",
   "metadata": {},
   "source": [
    "# 1. Numpy\n",
    "<a id='numpy'></a>\n",
    "**NumPy** es el paquete fundamental para cálculo con Python:\n",
    " * Arrays N-dimensionales\n",
    " * Funciones para el algebra lineal, transformadas de Fourier, crear números aleatorio, ...\n",
    " * Herramientas para integrar código en C/C++ y Fortran\n",
    "\n",
    "Os damos algunos detalles sobre como operar con numpy y luego ya pasamos a la estadítica. Podéis ver todas las funcionalidades de **NumPy** en (https://numpy.org). "
   ]
  },
  {
   "cell_type": "markdown",
   "metadata": {},
   "source": [
    "# 1.1 Arrays\n",
    "Python tiene por defecto distintas estructuras de almacenamiento de datos, pero no hemos visto los vectores. **NumPy** trabaja basicamente con vectores y matrices, lo que se llaman N-arrays (arrays de N dimensiones). Se pueden generar así: "
   ]
  },
  {
   "cell_type": "code",
   "execution_count": 5,
   "metadata": {},
   "outputs": [
    {
     "data": {
      "text/plain": [
       "numpy.ndarray"
      ]
     },
     "execution_count": 5,
     "metadata": {},
     "output_type": "execute_result"
    }
   ],
   "source": [
    "import numpy as np  # se suele guardar como np\n",
    "\n",
    "array1 = np.array([20, 30, 40, 50] )\n",
    "type(array1)"
   ]
  },
  {
   "cell_type": "code",
   "execution_count": 6,
   "metadata": {},
   "outputs": [
    {
     "name": "stdout",
     "output_type": "stream",
     "text": [
      "int64\n",
      "(4,)\n",
      "140\n",
      "20\n"
     ]
    }
   ],
   "source": [
    "print(array1.dtype)\n",
    "print(array1.shape)\n",
    "print(array1.sum())\n",
    "print(array1.min())"
   ]
  },
  {
   "cell_type": "code",
   "execution_count": 7,
   "metadata": {},
   "outputs": [
    {
     "data": {
      "text/plain": [
       "array([ 40,  60,  80, 100])"
      ]
     },
     "execution_count": 7,
     "metadata": {},
     "output_type": "execute_result"
    }
   ],
   "source": [
    "array1 * 2       # multiplica todos los elementos * 2"
   ]
  },
  {
   "cell_type": "code",
   "execution_count": 8,
   "metadata": {},
   "outputs": [
    {
     "data": {
      "text/plain": [
       "array([ 400,  900, 1600, 2500])"
      ]
     },
     "execution_count": 8,
     "metadata": {},
     "output_type": "execute_result"
    }
   ],
   "source": [
    "array1 * array1  # multiplica elemento a elemento"
   ]
  },
  {
   "cell_type": "code",
   "execution_count": 9,
   "metadata": {},
   "outputs": [
    {
     "data": {
      "text/plain": [
       "array([False, False,  True,  True])"
      ]
     },
     "execution_count": 9,
     "metadata": {},
     "output_type": "execute_result"
    }
   ],
   "source": [
    "array1 > 30"
   ]
  },
  {
   "cell_type": "markdown",
   "metadata": {},
   "source": [
    "También podemos inicializar arrays de zeros, con solo unos, con un cierto rango o bien números aleatorios."
   ]
  },
  {
   "cell_type": "code",
   "execution_count": 10,
   "metadata": {},
   "outputs": [
    {
     "data": {
      "text/plain": [
       "array([1., 1., 1., 1.])"
      ]
     },
     "execution_count": 10,
     "metadata": {},
     "output_type": "execute_result"
    }
   ],
   "source": [
    "np.ones(4)"
   ]
  },
  {
   "cell_type": "code",
   "execution_count": 11,
   "metadata": {},
   "outputs": [
    {
     "data": {
      "text/plain": [
       "array([0., 0., 0., 0., 0., 0., 0., 0., 0., 0.])"
      ]
     },
     "execution_count": 11,
     "metadata": {},
     "output_type": "execute_result"
    }
   ],
   "source": [
    "np.zeros(10)"
   ]
  },
  {
   "cell_type": "code",
   "execution_count": 12,
   "metadata": {},
   "outputs": [
    {
     "data": {
      "text/plain": [
       "array([0, 1, 2, 3, 4])"
      ]
     },
     "execution_count": 12,
     "metadata": {},
     "output_type": "execute_result"
    }
   ],
   "source": [
    "np.arange(5)"
   ]
  },
  {
   "cell_type": "code",
   "execution_count": 13,
   "metadata": {},
   "outputs": [
    {
     "data": {
      "text/plain": [
       "array([2, 5, 8])"
      ]
     },
     "execution_count": 13,
     "metadata": {},
     "output_type": "execute_result"
    }
   ],
   "source": [
    "np.arange(2, 10, 3)  # le podemos dar un paso distinto a 1"
   ]
  },
  {
   "cell_type": "code",
   "execution_count": 14,
   "metadata": {},
   "outputs": [
    {
     "data": {
      "text/plain": [
       "array([1.        , 1.11111111, 1.22222222, 1.33333333, 1.44444444,\n",
       "       1.55555556, 1.66666667, 1.77777778, 1.88888889, 2.        ])"
      ]
     },
     "execution_count": 14,
     "metadata": {},
     "output_type": "execute_result"
    }
   ],
   "source": [
    "np.linspace(1, 2, 10) # de 1 a 2 10 valores equiespaciados"
   ]
  },
  {
   "cell_type": "markdown",
   "metadata": {},
   "source": [
    "Accedemos a los arrays con array[posicion] empezando por 0 hasta -1"
   ]
  },
  {
   "cell_type": "code",
   "execution_count": 15,
   "metadata": {},
   "outputs": [
    {
     "data": {
      "text/plain": [
       "12"
      ]
     },
     "execution_count": 15,
     "metadata": {},
     "output_type": "execute_result"
    }
   ],
   "source": [
    "array1 = np.array([12, 5, -10 , 40, 13, 24, -21])\n",
    "array1[0]"
   ]
  },
  {
   "cell_type": "code",
   "execution_count": 16,
   "metadata": {},
   "outputs": [
    {
     "data": {
      "text/plain": [
       "-10"
      ]
     },
     "execution_count": 16,
     "metadata": {},
     "output_type": "execute_result"
    }
   ],
   "source": [
    "array1[2]"
   ]
  },
  {
   "cell_type": "code",
   "execution_count": 17,
   "metadata": {},
   "outputs": [
    {
     "data": {
      "text/plain": [
       "-21"
      ]
     },
     "execution_count": 17,
     "metadata": {},
     "output_type": "execute_result"
    }
   ],
   "source": [
    "array1[-1]"
   ]
  },
  {
   "cell_type": "code",
   "execution_count": 18,
   "metadata": {},
   "outputs": [
    {
     "data": {
      "text/plain": [
       "array([12,  5])"
      ]
     },
     "execution_count": 18,
     "metadata": {},
     "output_type": "execute_result"
    }
   ],
   "source": [
    "array1[:2]   # elemento (0 y 1, no se incluye el 2)"
   ]
  },
  {
   "cell_type": "code",
   "execution_count": 19,
   "metadata": {},
   "outputs": [
    {
     "data": {
      "text/plain": [
       "array([-10,  40,  13,  24, -21])"
      ]
     },
     "execution_count": 19,
     "metadata": {},
     "output_type": "execute_result"
    }
   ],
   "source": [
    "array1[2:]"
   ]
  },
  {
   "cell_type": "markdown",
   "metadata": {},
   "source": [
    "## 1.2 N-arrays\n",
    "Podemos trabajar con arrays con más dimensiones, matrices. Se definen igual:"
   ]
  },
  {
   "cell_type": "code",
   "execution_count": 20,
   "metadata": {},
   "outputs": [
    {
     "data": {
      "text/plain": [
       "array([[20, 30, 40, 50],\n",
       "       [10, 12, 14, 18]])"
      ]
     },
     "execution_count": 20,
     "metadata": {},
     "output_type": "execute_result"
    }
   ],
   "source": [
    "matriz1 = np.array([[20, 30, 40, 50], [10, 12, 14, 18]])\n",
    "matriz1 "
   ]
  },
  {
   "cell_type": "code",
   "execution_count": 21,
   "metadata": {},
   "outputs": [
    {
     "data": {
      "text/plain": [
       "numpy.ndarray"
      ]
     },
     "execution_count": 21,
     "metadata": {},
     "output_type": "execute_result"
    }
   ],
   "source": [
    "type(matriz1)"
   ]
  },
  {
   "cell_type": "code",
   "execution_count": 22,
   "metadata": {},
   "outputs": [
    {
     "data": {
      "text/plain": [
       "(2, 4)"
      ]
     },
     "execution_count": 22,
     "metadata": {},
     "output_type": "execute_result"
    }
   ],
   "source": [
    "matriz1.shape"
   ]
  },
  {
   "cell_type": "code",
   "execution_count": 23,
   "metadata": {},
   "outputs": [
    {
     "name": "stdout",
     "output_type": "stream",
     "text": [
      "194\n",
      "50\n",
      "int64\n"
     ]
    }
   ],
   "source": [
    "print(matriz1.sum())\n",
    "print(matriz1.max())\n",
    "print(matriz1.dtype)"
   ]
  },
  {
   "cell_type": "code",
   "execution_count": 24,
   "metadata": {},
   "outputs": [
    {
     "data": {
      "text/plain": [
       "array([[20, 10],\n",
       "       [30, 12],\n",
       "       [40, 14],\n",
       "       [50, 18]])"
      ]
     },
     "execution_count": 24,
     "metadata": {},
     "output_type": "execute_result"
    }
   ],
   "source": [
    "np.transpose(matriz1)"
   ]
  },
  {
   "cell_type": "code",
   "execution_count": 25,
   "metadata": {},
   "outputs": [
    {
     "data": {
      "text/plain": [
       "(4, 2)"
      ]
     },
     "execution_count": 25,
     "metadata": {},
     "output_type": "execute_result"
    }
   ],
   "source": [
    "np.transpose(matriz1).shape"
   ]
  },
  {
   "cell_type": "code",
   "execution_count": 26,
   "metadata": {},
   "outputs": [
    {
     "data": {
      "text/plain": [
       "array([[ 400,  900, 1600, 2500],\n",
       "       [ 100,  144,  196,  324]])"
      ]
     },
     "execution_count": 26,
     "metadata": {},
     "output_type": "execute_result"
    }
   ],
   "source": [
    "matriz1 * matriz1  # multiplica elemento a elemento"
   ]
  },
  {
   "cell_type": "code",
   "execution_count": 27,
   "metadata": {},
   "outputs": [
    {
     "ename": "ValueError",
     "evalue": "shapes (2,4) and (2,4) not aligned: 4 (dim 1) != 2 (dim 0)",
     "output_type": "error",
     "traceback": [
      "\u001b[0;31m---------------------------------------------------------------------------\u001b[0m",
      "\u001b[0;31mValueError\u001b[0m                                Traceback (most recent call last)",
      "\u001b[0;32m/var/folders/8n/8gxx65_52xq17qlkhphqy2hm0000gn/T/ipykernel_20768/4108783909.py\u001b[0m in \u001b[0;36m<module>\u001b[0;34m\u001b[0m\n\u001b[1;32m      1\u001b[0m \u001b[0;31m# usamos .dot para multiplicación matricial\u001b[0m\u001b[0;34m\u001b[0m\u001b[0;34m\u001b[0m\u001b[0;34m\u001b[0m\u001b[0m\n\u001b[0;32m----> 2\u001b[0;31m \u001b[0mmatriz1\u001b[0m\u001b[0;34m.\u001b[0m\u001b[0mdot\u001b[0m\u001b[0;34m(\u001b[0m\u001b[0mmatriz1\u001b[0m\u001b[0;34m)\u001b[0m\u001b[0;34m\u001b[0m\u001b[0;34m\u001b[0m\u001b[0m\n\u001b[0m",
      "\u001b[0;31mValueError\u001b[0m: shapes (2,4) and (2,4) not aligned: 4 (dim 1) != 2 (dim 0)"
     ]
    }
   ],
   "source": [
    "# usamos .dot para multiplicación matricial \n",
    "matriz1.dot(matriz1)"
   ]
  },
  {
   "cell_type": "code",
   "execution_count": 28,
   "metadata": {},
   "outputs": [
    {
     "data": {
      "text/plain": [
       "array([[5400, 2020],\n",
       "       [2020,  764]])"
      ]
     },
     "execution_count": 28,
     "metadata": {},
     "output_type": "execute_result"
    }
   ],
   "source": [
    "# matrix (2 x 4) matriz (2 x 4) --> ERROR\n",
    "# matrix (2 x 4) matriz (4 x 2) --> matriz (2x2)\n",
    "matriz1.dot(np.transpose(matriz1))"
   ]
  },
  {
   "cell_type": "code",
   "execution_count": 29,
   "metadata": {},
   "outputs": [
    {
     "data": {
      "text/plain": [
       "array([[ 500,  720,  940, 1180],\n",
       "       [ 720, 1044, 1368, 1716],\n",
       "       [ 940, 1368, 1796, 2252],\n",
       "       [1180, 1716, 2252, 2824]])"
      ]
     },
     "execution_count": 29,
     "metadata": {},
     "output_type": "execute_result"
    }
   ],
   "source": [
    "# matrix (4 x 2) matriz (2 x 4) --> matriz (4x4)\n",
    "np.transpose(matriz1).dot(matriz1)"
   ]
  },
  {
   "cell_type": "code",
   "execution_count": 30,
   "metadata": {},
   "outputs": [
    {
     "data": {
      "text/plain": [
       "array([[ 2,  3,  8,  1],\n",
       "       [-1, 14, 12, 19]])"
      ]
     },
     "execution_count": 30,
     "metadata": {},
     "output_type": "execute_result"
    }
   ],
   "source": [
    "matriz2 = np.array([[2, 3, 8, 1], [-1, 14, 12, 19]])\n",
    "matriz2"
   ]
  },
  {
   "cell_type": "code",
   "execution_count": 31,
   "metadata": {},
   "outputs": [
    {
     "data": {
      "text/plain": [
       "array([[18, 27, 32, 49],\n",
       "       [11, -2,  2, -1]])"
      ]
     },
     "execution_count": 31,
     "metadata": {},
     "output_type": "execute_result"
    }
   ],
   "source": [
    "# operaciones elemento a elemento\n",
    "matriz1 - matriz2"
   ]
  },
  {
   "cell_type": "code",
   "execution_count": 32,
   "metadata": {},
   "outputs": [
    {
     "data": {
      "text/plain": [
       "array([[0, 0, 0, 0],\n",
       "       [0, 0, 0, 0]])"
      ]
     },
     "execution_count": 32,
     "metadata": {},
     "output_type": "execute_result"
    }
   ],
   "source": [
    "matriz1 - matriz1"
   ]
  },
  {
   "cell_type": "code",
   "execution_count": 33,
   "metadata": {},
   "outputs": [
    {
     "data": {
      "text/plain": [
       "array([[22, 33, 48, 51],\n",
       "       [ 9, 26, 26, 37]])"
      ]
     },
     "execution_count": 33,
     "metadata": {},
     "output_type": "execute_result"
    }
   ],
   "source": [
    "matriz1 + matriz2"
   ]
  },
  {
   "cell_type": "code",
   "execution_count": 34,
   "metadata": {},
   "outputs": [
    {
     "data": {
      "text/plain": [
       "array([[ 40,  90, 320,  50],\n",
       "       [-10, 168, 168, 342]])"
      ]
     },
     "execution_count": 34,
     "metadata": {},
     "output_type": "execute_result"
    }
   ],
   "source": [
    "matriz1 * matriz2  "
   ]
  },
  {
   "cell_type": "code",
   "execution_count": 35,
   "metadata": {},
   "outputs": [
    {
     "data": {
      "text/plain": [
       "array([[ 500, 1830],\n",
       "       [ 186,  668]])"
      ]
     },
     "execution_count": 35,
     "metadata": {},
     "output_type": "execute_result"
    }
   ],
   "source": [
    "# si queremos multiplicar en forma matricial:\n",
    "matriz1.dot(np.transpose(matriz2))"
   ]
  },
  {
   "cell_type": "markdown",
   "metadata": {},
   "source": [
    "Accedemos a las matrices por sus posiciones desde 0 a N-1 ej: matriz[2,3]"
   ]
  },
  {
   "cell_type": "code",
   "execution_count": 36,
   "metadata": {},
   "outputs": [
    {
     "data": {
      "text/plain": [
       "array([[20, 30, 40, 50],\n",
       "       [10, 12, 14, 18]])"
      ]
     },
     "execution_count": 36,
     "metadata": {},
     "output_type": "execute_result"
    }
   ],
   "source": [
    "matriz1"
   ]
  },
  {
   "cell_type": "code",
   "execution_count": 37,
   "metadata": {},
   "outputs": [
    {
     "data": {
      "text/plain": [
       "40"
      ]
     },
     "execution_count": 37,
     "metadata": {},
     "output_type": "execute_result"
    }
   ],
   "source": [
    "matriz1[0,2]"
   ]
  },
  {
   "cell_type": "code",
   "execution_count": 38,
   "metadata": {},
   "outputs": [
    {
     "data": {
      "text/plain": [
       "array([20, 30, 40, 50])"
      ]
     },
     "execution_count": 38,
     "metadata": {},
     "output_type": "execute_result"
    }
   ],
   "source": [
    "matriz1[0,:]"
   ]
  },
  {
   "cell_type": "code",
   "execution_count": 39,
   "metadata": {},
   "outputs": [
    {
     "data": {
      "text/plain": [
       "array([20, 30, 40, 50])"
      ]
     },
     "execution_count": 39,
     "metadata": {},
     "output_type": "execute_result"
    }
   ],
   "source": [
    "matriz1[0]"
   ]
  },
  {
   "cell_type": "code",
   "execution_count": 40,
   "metadata": {},
   "outputs": [
    {
     "data": {
      "text/plain": [
       "array([20, 10])"
      ]
     },
     "execution_count": 40,
     "metadata": {},
     "output_type": "execute_result"
    }
   ],
   "source": [
    "matriz1[:,0]"
   ]
  },
  {
   "cell_type": "code",
   "execution_count": 41,
   "metadata": {},
   "outputs": [
    {
     "data": {
      "text/plain": [
       "array([[20, 30],\n",
       "       [10, 12]])"
      ]
     },
     "execution_count": 41,
     "metadata": {},
     "output_type": "execute_result"
    }
   ],
   "source": [
    "matriz1[:,:2]  # todas las filas, columas hasta la 2 (la 0 y la 1 sin incluir el 2)"
   ]
  },
  {
   "cell_type": "markdown",
   "metadata": {},
   "source": [
    "## 1.3 Números aleatorios\n",
    "**NumPy** nos permite generar número aleatorios con distintas distribuciones. Aquí mostraremos las más comunes pero podéis ver todas las que tiene definidas [aquí](https://numpy.org/doc/1.16/reference/routines.random.html)."
   ]
  },
  {
   "cell_type": "code",
   "execution_count": 42,
   "metadata": {},
   "outputs": [
    {
     "data": {
      "text/plain": [
       "array([-3.08940539e+00,  6.72787380e-01,  1.30337085e+00, -1.00904197e+00,\n",
       "        8.41951614e-02, -1.70972230e+00,  7.50782232e-01, -1.66386134e+00,\n",
       "        8.11724455e-01, -2.07054386e+00,  8.45463432e-01,  6.04605967e-01,\n",
       "       -5.37657732e-03,  2.40812839e+00,  2.76120136e+00, -2.99048439e+00,\n",
       "        3.06946316e+00, -1.48081217e+00,  2.46012747e+00, -1.86328051e+00,\n",
       "        3.73541762e-02,  1.78303832e+00, -1.14868180e+00,  2.15378854e+00,\n",
       "        6.17761861e+00,  1.81150668e+00,  3.72157321e+00, -1.83858636e+00,\n",
       "        3.28737025e+00, -1.28044241e+00,  7.09483329e+00,  3.47760922e+00,\n",
       "        1.54014609e+00,  2.85803825e+00,  3.83776184e+00,  1.48774327e+00,\n",
       "        9.96625749e-02,  1.22833714e+00,  6.21125812e-01,  1.98770556e+00,\n",
       "        1.34933124e+00,  2.97498280e+00, -1.81521373e+00,  2.53909292e+00,\n",
       "        1.85020142e+00,  1.04892660e+00,  2.00272340e+00, -2.11553140e+00,\n",
       "        8.76812193e-01,  1.95380956e+00, -3.73299458e+00,  9.51291337e-05,\n",
       "        3.08723679e+00,  3.40599704e-01, -1.48305776e+00,  1.66110220e+00,\n",
       "        7.76797732e-01, -6.28921668e-01,  8.29999764e-01, -5.79255337e-01,\n",
       "        5.28645328e-01, -1.18227629e+00,  1.35945341e+00,  4.35585645e+00,\n",
       "        2.03189472e+00, -8.10349046e-01, -2.41225668e-01,  2.31411080e-01,\n",
       "       -1.69522241e+00,  1.82146183e+00,  2.09300558e+00,  6.25063565e-01,\n",
       "        3.12760954e+00, -1.00647629e-01,  3.82658479e-01, -1.10847278e+00,\n",
       "        1.20479775e-02, -4.62992938e+00,  4.85520789e-01,  5.89415444e-01,\n",
       "        1.61474900e+00,  1.90671810e+00,  1.91038868e+00,  1.46679755e+00,\n",
       "        8.13190769e-01,  1.32229127e-04,  3.26034694e+00,  3.77292744e+00,\n",
       "       -1.60337695e+00,  9.58462542e-01, -8.74095224e-01,  4.07099917e-01,\n",
       "       -2.90037705e-01, -3.25975734e+00,  3.09508635e+00,  3.83062031e+00,\n",
       "        3.68691103e+00, -2.62606526e+00,  1.22578250e+00,  1.44347208e+00])"
      ]
     },
     "execution_count": 42,
     "metadata": {},
     "output_type": "execute_result"
    }
   ],
   "source": [
    "# Distribución normal, le damos: media, dispersión y tamaño de la muestra.\n",
    "np.random.normal(1, 2, 100)  "
   ]
  },
  {
   "cell_type": "code",
   "execution_count": 43,
   "metadata": {},
   "outputs": [
    {
     "data": {
      "text/plain": [
       "array([1.25852784, 1.84901088, 1.19583364, 1.28157138, 1.12916135,\n",
       "       1.36951304, 1.22008759, 1.70609209, 1.64352169, 1.57619804,\n",
       "       1.44021705, 1.5128925 , 1.65958011, 1.63815987, 1.68428274,\n",
       "       1.92461516, 1.9451517 , 1.03382936, 1.2670453 , 1.85567913,\n",
       "       1.42096884, 1.30152405, 1.77700805, 1.7442414 , 1.3895007 ,\n",
       "       1.39949462, 1.48121047, 1.03553261, 1.51908771, 1.51242062,\n",
       "       1.25156747, 1.17825543, 1.13109004, 1.74317035, 1.1351496 ,\n",
       "       1.64305837, 1.14292893, 1.32939369, 1.44898953, 1.76177283,\n",
       "       1.80339168, 1.46313509, 1.89019794, 1.75963399, 1.28479971,\n",
       "       1.56651398, 1.55747476, 1.63905588, 1.42716019, 1.62773244,\n",
       "       1.04859629, 1.56598815, 1.95585825, 1.53998335, 1.72138913,\n",
       "       1.07371808, 1.1320051 , 1.52601777, 1.13309561, 1.44927375,\n",
       "       1.45369569, 1.11238385, 1.02178495, 1.06049527, 1.72904466,\n",
       "       1.90281486, 1.33875108, 1.24349378, 1.88391479, 1.90140235,\n",
       "       1.86171929, 1.78805851, 1.614332  , 1.68695332, 1.84355663,\n",
       "       1.85616476, 1.7535788 , 1.46768503, 1.87969993, 1.36681662,\n",
       "       1.24849928, 1.24681853, 1.72805668, 1.43035185, 1.4615549 ,\n",
       "       1.33953972, 1.85650461, 1.46483399, 1.89552914, 1.29225587,\n",
       "       1.54477752, 1.0309602 , 1.10458626, 1.62115825, 1.20900118,\n",
       "       1.93276237, 1.35902299, 1.4726422 , 1.06641101, 1.53159348])"
      ]
     },
     "execution_count": 43,
     "metadata": {},
     "output_type": "execute_result"
    }
   ],
   "source": [
    "# Distribución uniforme, le damos mínimo, máximo y tamaño muestra. \n",
    "np.random.uniform(1, 2, 100) "
   ]
  },
  {
   "cell_type": "markdown",
   "metadata": {},
   "source": [
    "## 1.4 Funciones.\n",
    "**NumPy** tiene definidas funciones matemáticas simples y operaciones más elaboradas. En esta intrioducción hacemos un breve resumen de las más simples y durante el curso vamos a ir viendo otras funciones interesantes y muy usadas. "
   ]
  },
  {
   "cell_type": "code",
   "execution_count": 44,
   "metadata": {
    "colab": {
     "base_uri": "https://localhost:8080/",
     "height": 35
    },
    "id": "2TafEujwNG1F",
    "outputId": "3cb615e4-f78b-4201-f30e-93d7786f020d"
   },
   "outputs": [
    {
     "data": {
      "text/plain": [
       "3.141592653589793"
      ]
     },
     "execution_count": 44,
     "metadata": {},
     "output_type": "execute_result"
    }
   ],
   "source": [
    "# funciones matemáticas básicas\n",
    "np.pi"
   ]
  },
  {
   "cell_type": "code",
   "execution_count": 45,
   "metadata": {},
   "outputs": [
    {
     "data": {
      "text/plain": [
       "-1.0"
      ]
     },
     "execution_count": 45,
     "metadata": {},
     "output_type": "execute_result"
    }
   ],
   "source": [
    "np.cos(np.pi)"
   ]
  },
  {
   "cell_type": "code",
   "execution_count": 46,
   "metadata": {},
   "outputs": [
    {
     "data": {
      "text/plain": [
       "1.2246467991473532e-16"
      ]
     },
     "execution_count": 46,
     "metadata": {},
     "output_type": "execute_result"
    }
   ],
   "source": [
    "np.sin(np.pi)"
   ]
  },
  {
   "cell_type": "code",
   "execution_count": 47,
   "metadata": {},
   "outputs": [
    {
     "data": {
      "text/plain": [
       "0.0"
      ]
     },
     "execution_count": 47,
     "metadata": {},
     "output_type": "execute_result"
    }
   ],
   "source": [
    "np.sin(np.pi).round() # np.round(np.sin(np.pi))"
   ]
  },
  {
   "cell_type": "code",
   "execution_count": 48,
   "metadata": {},
   "outputs": [
    {
     "data": {
      "text/plain": [
       "3.14"
      ]
     },
     "execution_count": 48,
     "metadata": {},
     "output_type": "execute_result"
    }
   ],
   "source": [
    "np.round(np.pi, 2)"
   ]
  },
  {
   "cell_type": "code",
   "execution_count": 49,
   "metadata": {},
   "outputs": [
    {
     "data": {
      "text/plain": [
       "180.0"
      ]
     },
     "execution_count": 49,
     "metadata": {},
     "output_type": "execute_result"
    }
   ],
   "source": [
    "np.rad2deg(np.pi)  # y deg2rad"
   ]
  },
  {
   "cell_type": "code",
   "execution_count": 50,
   "metadata": {},
   "outputs": [
    {
     "data": {
      "text/plain": [
       "2.302585092994046"
      ]
     },
     "execution_count": 50,
     "metadata": {},
     "output_type": "execute_result"
    }
   ],
   "source": [
    "np.log(10)  # log en base e"
   ]
  },
  {
   "cell_type": "code",
   "execution_count": 51,
   "metadata": {},
   "outputs": [
    {
     "data": {
      "text/plain": [
       "3.321928094887362"
      ]
     },
     "execution_count": 51,
     "metadata": {},
     "output_type": "execute_result"
    }
   ],
   "source": [
    "np.log2(10)"
   ]
  },
  {
   "cell_type": "code",
   "execution_count": 52,
   "metadata": {},
   "outputs": [
    {
     "data": {
      "text/plain": [
       "1.0"
      ]
     },
     "execution_count": 52,
     "metadata": {},
     "output_type": "execute_result"
    }
   ],
   "source": [
    "np.log10(10)"
   ]
  },
  {
   "cell_type": "code",
   "execution_count": 53,
   "metadata": {},
   "outputs": [
    {
     "data": {
      "text/plain": [
       "13"
      ]
     },
     "execution_count": 53,
     "metadata": {},
     "output_type": "execute_result"
    }
   ],
   "source": [
    "np.abs(-13)"
   ]
  },
  {
   "cell_type": "code",
   "execution_count": 54,
   "metadata": {},
   "outputs": [
    {
     "data": {
      "text/plain": [
       "4.0"
      ]
     },
     "execution_count": 54,
     "metadata": {},
     "output_type": "execute_result"
    }
   ],
   "source": [
    "np.sqrt(16)"
   ]
  },
  {
   "cell_type": "code",
   "execution_count": 55,
   "metadata": {},
   "outputs": [
    {
     "data": {
      "text/plain": [
       "array([-21, -10,   5,  12,  13,  24,  40])"
      ]
     },
     "execution_count": 55,
     "metadata": {},
     "output_type": "execute_result"
    }
   ],
   "source": [
    "# podemos ordenar arrys\n",
    "array4 = np.array([ -2, 10, -5, 12, 6, 3])\n",
    "np.sort(array1)"
   ]
  },
  {
   "cell_type": "code",
   "execution_count": 56,
   "metadata": {},
   "outputs": [
    {
     "data": {
      "text/plain": [
       "array([1, 2, 3, 5])"
      ]
     },
     "execution_count": 56,
     "metadata": {},
     "output_type": "execute_result"
    }
   ],
   "source": [
    "# unique ordena y elimina los elementos repetidos\n",
    "array3 = np.array([5, 5, 2, 1, 3, 1])\n",
    "np.unique(array3)"
   ]
  },
  {
   "cell_type": "code",
   "execution_count": 57,
   "metadata": {},
   "outputs": [
    {
     "data": {
      "text/plain": [
       "(array([2]),)"
      ]
     },
     "execution_count": 57,
     "metadata": {},
     "output_type": "execute_result"
    }
   ],
   "source": [
    "# buscar en elemento\n",
    "np.where(array4 == -5)"
   ]
  },
  {
   "cell_type": "code",
   "execution_count": 58,
   "metadata": {},
   "outputs": [
    {
     "data": {
      "text/plain": [
       "(array([1, 3, 4]),)"
      ]
     },
     "execution_count": 58,
     "metadata": {},
     "output_type": "execute_result"
    }
   ],
   "source": [
    "# array con las posiciones\n",
    "np.where(array4 > 5)"
   ]
  },
  {
   "cell_type": "code",
   "execution_count": 59,
   "metadata": {},
   "outputs": [
    {
     "data": {
      "text/plain": [
       "array([10, 12,  6])"
      ]
     },
     "execution_count": 59,
     "metadata": {},
     "output_type": "execute_result"
    }
   ],
   "source": [
    "# con esas posiciones podemos encontrar los valores\n",
    "pos = np.where(array4 > 5)\n",
    "array4[pos]"
   ]
  },
  {
   "cell_type": "code",
   "execution_count": 60,
   "metadata": {},
   "outputs": [
    {
     "name": "stdout",
     "output_type": "stream",
     "text": [
      "1\n"
     ]
    }
   ],
   "source": [
    "# pos es un tuple, a veces necesitamos obtener el array\n",
    "# por ejemplo para contar los elementos\n",
    "print(len(pos))\n"
   ]
  },
  {
   "cell_type": "code",
   "execution_count": 61,
   "metadata": {},
   "outputs": [
    {
     "data": {
      "text/plain": [
       "3"
      ]
     },
     "execution_count": 61,
     "metadata": {},
     "output_type": "execute_result"
    }
   ],
   "source": [
    "# Arriba nos está dando la dimensión de la tupla,\n",
    "# más que lo que nos interesa, para eso hacemos\n",
    "len(pos[0])"
   ]
  },
  {
   "cell_type": "code",
   "execution_count": 62,
   "metadata": {},
   "outputs": [],
   "source": [
    "# podemos guardar cualquier array en un archivos de txt\n",
    "np.savetxt('pruebaNumpy.txt', matriz1)"
   ]
  },
  {
   "cell_type": "code",
   "execution_count": 63,
   "metadata": {},
   "outputs": [
    {
     "data": {
      "text/plain": [
       "array([[20., 30., 40., 50.],\n",
       "       [10., 12., 14., 18.]])"
      ]
     },
     "execution_count": 63,
     "metadata": {},
     "output_type": "execute_result"
    }
   ],
   "source": [
    "# lo podemos leer desde el archivo \n",
    "# SIN CABECERA!!\n",
    "PRUEBA = np.loadtxt('pruebaNumpy.txt')\n",
    "PRUEBA"
   ]
  },
  {
   "cell_type": "markdown",
   "metadata": {},
   "source": [
    "`savetxt` y `loadtxt` solo son útiles para archivos númericos sin carácteres, sin espacios, con mismo número de columnas en cada fila, tipo matriz. En otro caso, mejor leer ficheros con otro paquete como **Pandas** que tiene más flexibilidad."
   ]
  },
  {
   "cell_type": "markdown",
   "metadata": {
    "id": "oZRWEz6NNLd4"
   },
   "source": [
    "# 2. Matplotlib\n",
    "Para visualizar los datos hay varias librerías que se pueden usar como el propio [pandas](https://pandas.pydata.org/pandas-docs/stable/visualization.html)), [seaborn](https://seaborn.pydata.org/) con un estilo más \"sofisticado\" o [plotly](https://plot.ly/python/) para figuras interactivas. Aquí nos centramos en [matplotlib](https://matplotlib.org/) que es sencilla de usar y está ampliamente usada.  En realidad **matplotlib** es un módulo muy extenso, con además de gráficas, visualización de imagenes, aquí solo veremos funciones que están dentro del paquete `pyplot` para hacer gráficos. Más adelante en el curso se pueden ver otras funcionalidades del paquete. "
   ]
  },
  {
   "cell_type": "code",
   "execution_count": 64,
   "metadata": {},
   "outputs": [],
   "source": [
    "import matplotlib.pyplot as pl  \n",
    "# en vez de cargar todo el paquete cargamos solo el que nos interesa.\n",
    "# Si cargo solo matplotlib as mp pongamos, tendría que usar mp.pyplot cada vez\n"
   ]
  },
  {
   "cell_type": "markdown",
   "metadata": {},
   "source": [
    "## 2.1 Gráficos simples"
   ]
  },
  {
   "cell_type": "code",
   "execution_count": 66,
   "metadata": {
    "colab": {
     "base_uri": "https://localhost:8080/",
     "height": 35
    },
    "id": "rRSsb7JnNPYY",
    "outputId": "f6b41fb9-0240-457f-af76-68d08fa57c8f"
   },
   "outputs": [
    {
     "data": {
      "text/plain": [
       "[<matplotlib.lines.Line2D at 0x11bbeb7c0>]"
      ]
     },
     "execution_count": 66,
     "metadata": {},
     "output_type": "execute_result"
    },
    {
     "data": {
      "image/png": "[encoded data removed]",
      "text/plain": [
       "<Figure size 432x288 with 1 Axes>"
      ]
     },
     "metadata": {
      "needs_background": "light"
     },
     "output_type": "display_data"
    }
   ],
   "source": [
    "years = [1981, 1987, 1990, 1994, 1997, 2000, 2004, 2010]\n",
    "dollars= [300000, 50000, 10000, 1000, 100, 10, 1, 0.1]\n",
    "pl.plot(years, dollars)\n"
   ]
  },
  {
   "cell_type": "markdown",
   "metadata": {},
   "source": [
    "Lo mínimo que tiene que tener una gráfica es información de los ejes"
   ]
  },
  {
   "cell_type": "code",
   "execution_count": 75,
   "metadata": {},
   "outputs": [
    {
     "data": {
      "text/plain": [
       "Text(0, 0.5, 'dólares')"
      ]
     },
     "execution_count": 75,
     "metadata": {},
     "output_type": "execute_result"
    },
    {
     "data": {
      "image/png": "[encoded data removed]",
      "text/plain": [
       "<Figure size 432x288 with 1 Axes>"
      ]
     },
     "metadata": {
      "needs_background": "light"
     },
     "output_type": "display_data"
    }
   ],
   "source": [
    "pl.plot(years, dollars)\n",
    "pl.xlabel('años')\n",
    "pl.ylabel('dólares')"
   ]
  },
  {
   "cell_type": "markdown",
   "metadata": {},
   "source": [
    "También podríamos ajustar los límites de x e y, por cuestiones de estética o para hacer un zoom:"
   ]
  },
  {
   "cell_type": "code",
   "execution_count": 76,
   "metadata": {},
   "outputs": [
    {
     "data": {
      "text/plain": [
       "(0.0, 12000.0)"
      ]
     },
     "execution_count": 76,
     "metadata": {},
     "output_type": "execute_result"
    },
    {
     "data": {
      "image/png": "[encoded data removed]",
      "text/plain": [
       "<Figure size 432x288 with 1 Axes>"
      ]
     },
     "metadata": {
      "needs_background": "light"
     },
     "output_type": "display_data"
    }
   ],
   "source": [
    "pl.plot(years, dollars)\n",
    "pl.xlabel('años')\n",
    "pl.ylabel('dólares')\n",
    "pl.xlim(1990, 2000)\n",
    "pl.ylim(0, 12000)"
   ]
  },
  {
   "cell_type": "markdown",
   "metadata": {},
   "source": []
  },
  {
   "cell_type": "markdown",
   "metadata": {},
   "source": [
    "Podemos cambiar el color o la forma en que se unen los puntos. Hay varios colores y marcadores ya definidos:\n",
    "\n",
    "* 'b' as blue\n",
    "* 'g' as green\n",
    "* 'r' as red\n",
    "* 'c' as cyan\n",
    "* 'm' as magenta\n",
    "* 'y' as yellow\n",
    "* 'k' as black\n",
    "* 'w' as white\n",
    "\n",
    "Aunque se podría especificar cualquier color en concreto usando distintas escalas (https://matplotlib.org/stable/tutorials/colors/colors.html). \n",
    "\n",
    "Marcadores también hay muchos, los más comunes son:\n",
    "\n",
    "* '.'  puntos\n",
    "* 'o'  circulo\n",
    "* '^'  triángulo\n",
    "* 'sq' cuadrado\n",
    "* '--' línea discontinua\n",
    "* '..' línea dashed\n",
    "\n",
    "Podéis verlos todos [aquí](https://matplotlib.org/stable/api/markers_api.html). Tanto el color como el marcador se puede indicar en la función `plot`"
   ]
  },
  {
   "cell_type": "code",
   "execution_count": 77,
   "metadata": {},
   "outputs": [
    {
     "data": {
      "text/plain": [
       "Text(0, 0.5, 'dólares')"
      ]
     },
     "execution_count": 77,
     "metadata": {},
     "output_type": "execute_result"
    },
    {
     "data": {
      "image/png": "[encoded data removed]",
      "text/plain": [
       "<Figure size 432x288 with 1 Axes>"
      ]
     },
     "metadata": {
      "needs_background": "light"
     },
     "output_type": "display_data"
    }
   ],
   "source": [
    "pl.plot(years, dollars, color = 'r', marker= 'o', linestyle = '--')\n",
    "\n",
    "pl.xlabel('años')\n",
    "pl.ylabel('dólares')"
   ]
  },
  {
   "cell_type": "code",
   "execution_count": 78,
   "metadata": {},
   "outputs": [
    {
     "data": {
      "text/plain": [
       "[<matplotlib.lines.Line2D at 0x11c4bdfd0>]"
      ]
     },
     "execution_count": 78,
     "metadata": {},
     "output_type": "execute_result"
    },
    {
     "data": {
      "image/png": "[encoded data removed]",
      "text/plain": [
       "<Figure size 432x288 with 1 Axes>"
      ]
     },
     "metadata": {
      "needs_background": "light"
     },
     "output_type": "display_data"
    }
   ],
   "source": [
    "# si se usan los valores por defecto se puede poner de manera más compacta\n",
    "pl.plot(years, dollars, '-.y^')"
   ]
  },
  {
   "cell_type": "markdown",
   "metadata": {},
   "source": [
    "Podríamos cambiar el tamaño del marcador y de la línea también:"
   ]
  },
  {
   "cell_type": "code",
   "execution_count": 79,
   "metadata": {},
   "outputs": [
    {
     "data": {
      "text/plain": [
       "[<matplotlib.lines.Line2D at 0x11c536040>]"
      ]
     },
     "execution_count": 79,
     "metadata": {},
     "output_type": "execute_result"
    },
    {
     "data": {
      "image/png": "[encoded data removed]",
      "text/plain": [
       "<Figure size 432x288 with 1 Axes>"
      ]
     },
     "metadata": {
      "needs_background": "light"
     },
     "output_type": "display_data"
    }
   ],
   "source": [
    "pl.plot(years, dollars, '--go', markersize = 15, linewidth = 3)"
   ]
  },
  {
   "cell_type": "markdown",
   "metadata": {},
   "source": [
    "Y si estamos satisfechos ya la podemos guardar usando `savefig`:"
   ]
  },
  {
   "cell_type": "code",
   "execution_count": 80,
   "metadata": {},
   "outputs": [
    {
     "data": {
      "image/png": "[encoded data removed]",
      "text/plain": [
       "<Figure size 432x288 with 1 Axes>"
      ]
     },
     "metadata": {
      "needs_background": "light"
     },
     "output_type": "display_data"
    }
   ],
   "source": [
    "pl.plot(years, dollars, '--go', markersize = 15, linewidth = 3)\n",
    "pl.xlabel('años')\n",
    "pl.ylabel('dólares')\n",
    "pl.savefig('graf1.png')"
   ]
  },
  {
   "cell_type": "markdown",
   "metadata": {},
   "source": [
    "Hay otros tipos de plots `bar`, `scatter` o `errorbar` entre otros que son interesantes y que iremos viendo a lo largo del curso. "
   ]
  },
  {
   "cell_type": "markdown",
   "metadata": {},
   "source": [
    "## 2.2 Mutliples gráficas\n",
    "Muchas veces necesitamos visualizar varios datos a la vez. Si son de la misma naturaleza y se quieren comparar se pueden poner en la misma gráfica, mientras que otras veces nos interesará ponerla en otro *plot*. \n"
   ]
  },
  {
   "cell_type": "code",
   "execution_count": 81,
   "metadata": {},
   "outputs": [
    {
     "data": {
      "image/png": "[encoded data removed]",
      "text/plain": [
       "<Figure size 432x288 with 1 Axes>"
      ]
     },
     "metadata": {
      "needs_background": "light"
     },
     "output_type": "display_data"
    }
   ],
   "source": [
    "x = np.linspace(-10, 10, 100) \n",
    "\n",
    "# generamos un diccionario\n",
    "\n",
    "data = {'x': x, 'sine': np.sin(x), 'cosine': np.cos(x)}\n",
    "\n",
    "pl.plot(data['x'], data['sine'])\n",
    "pl.xlabel('radians'); # pongo ; para evitar que lo muestre por pantalla\n",
    "pl.ylabel('f(rad)');"
   ]
  },
  {
   "cell_type": "markdown",
   "metadata": {},
   "source": [
    "Si queremos pintar dos o más funciones en una misma gráfica simplemente vamos añadiendo la función `plot` con el contenido y formato que deseemos, pero es importante luego indicar que es cada cosa. Para esto usamos la etiqueta `label` dentro de la función y pedimos que se visualice usando `legend`:"
   ]
  },
  {
   "cell_type": "code",
   "execution_count": 4,
   "metadata": {},
   "outputs": [
    {
     "ename": "NameError",
     "evalue": "name 'pl' is not defined",
     "output_type": "error",
     "traceback": [
      "\u001b[0;31m---------------------------------------------------------------------------\u001b[0m",
      "\u001b[0;31mNameError\u001b[0m                                 Traceback (most recent call last)",
      "\u001b[0;32m/var/folders/8n/8gxx65_52xq17qlkhphqy2hm0000gn/T/ipykernel_20768/4059917239.py\u001b[0m in \u001b[0;36m<module>\u001b[0;34m\u001b[0m\n\u001b[0;32m----> 1\u001b[0;31m \u001b[0mpl\u001b[0m\u001b[0;34m.\u001b[0m\u001b[0mplot\u001b[0m\u001b[0;34m(\u001b[0m\u001b[0mdata\u001b[0m\u001b[0;34m[\u001b[0m\u001b[0;34m'x'\u001b[0m\u001b[0;34m]\u001b[0m\u001b[0;34m,\u001b[0m \u001b[0mdata\u001b[0m\u001b[0;34m[\u001b[0m\u001b[0;34m'sine'\u001b[0m\u001b[0;34m]\u001b[0m\u001b[0;34m,\u001b[0m\u001b[0mlabel\u001b[0m \u001b[0;34m=\u001b[0m \u001b[0;34m'sine'\u001b[0m \u001b[0;34m)\u001b[0m\u001b[0;34m\u001b[0m\u001b[0;34m\u001b[0m\u001b[0m\n\u001b[0m\u001b[1;32m      2\u001b[0m \u001b[0mpl\u001b[0m\u001b[0;34m.\u001b[0m\u001b[0mplot\u001b[0m\u001b[0;34m(\u001b[0m\u001b[0mdata\u001b[0m\u001b[0;34m[\u001b[0m\u001b[0;34m'x'\u001b[0m\u001b[0;34m]\u001b[0m\u001b[0;34m,\u001b[0m \u001b[0mdata\u001b[0m\u001b[0;34m[\u001b[0m\u001b[0;34m'cosine'\u001b[0m\u001b[0;34m]\u001b[0m\u001b[0;34m,\u001b[0m\u001b[0mlabel\u001b[0m \u001b[0;34m=\u001b[0m \u001b[0;34m'cosine'\u001b[0m \u001b[0;34m)\u001b[0m\u001b[0;34m\u001b[0m\u001b[0;34m\u001b[0m\u001b[0m\n\u001b[1;32m      3\u001b[0m \u001b[0mpl\u001b[0m\u001b[0;34m.\u001b[0m\u001b[0mxlabel\u001b[0m\u001b[0;34m(\u001b[0m\u001b[0;34m'radians'\u001b[0m\u001b[0;34m)\u001b[0m\u001b[0;34m;\u001b[0m \u001b[0;31m# pongo ; para evitar que lo muestre por pantalla\u001b[0m\u001b[0;34m\u001b[0m\u001b[0;34m\u001b[0m\u001b[0m\n\u001b[1;32m      4\u001b[0m \u001b[0mpl\u001b[0m\u001b[0;34m.\u001b[0m\u001b[0mylabel\u001b[0m\u001b[0;34m(\u001b[0m\u001b[0;34m'f(rad)'\u001b[0m\u001b[0;34m)\u001b[0m\u001b[0;34m;\u001b[0m\u001b[0;34m\u001b[0m\u001b[0;34m\u001b[0m\u001b[0m\n\u001b[1;32m      5\u001b[0m \u001b[0mpl\u001b[0m\u001b[0;34m.\u001b[0m\u001b[0mlegend\u001b[0m\u001b[0;34m(\u001b[0m\u001b[0;34m)\u001b[0m\u001b[0;34m;\u001b[0m\u001b[0;34m\u001b[0m\u001b[0;34m\u001b[0m\u001b[0m\n",
      "\u001b[0;31mNameError\u001b[0m: name 'pl' is not defined"
     ]
    }
   ],
   "source": [
    "pl.plot(data['x'], data['sine'],label = 'sine' )\n",
    "pl.plot(data['x'], data['cosine'],label = 'cosine' )\n",
    "pl.xlabel('radians'); # pongo ; para evitar que lo muestre por pantalla\n",
    "pl.ylabel('f(rad)');\n",
    "pl.legend();"
   ]
  },
  {
   "cell_type": "markdown",
   "metadata": {},
   "source": [
    "Se puede cambiar la posición o propiedades de la leyenda, lo podéis ver [aquí](https://matplotlib.org/stable/api/_as_gen/matplotlib.pyplot.legend.html). "
   ]
  },
  {
   "cell_type": "markdown",
   "metadata": {},
   "source": [
    "Si queremos hacer varias subgráficas se puede hacer usando `subplot`. En cada subplot le tienes que indicar qué posición tiene del total de `subplots` (n x m). Un ejemplo si queremos hacer 6 gráficas separadas en 2 columnas:"
   ]
  },
  {
   "cell_type": "code",
   "execution_count": 2,
   "metadata": {},
   "outputs": [
    {
     "ename": "NameError",
     "evalue": "name 'pl' is not defined",
     "output_type": "error",
     "traceback": [
      "\u001b[0;31m---------------------------------------------------------------------------\u001b[0m",
      "\u001b[0;31mNameError\u001b[0m                                 Traceback (most recent call last)",
      "\u001b[0;32m/var/folders/8n/8gxx65_52xq17qlkhphqy2hm0000gn/T/ipykernel_20768/2421193602.py\u001b[0m in \u001b[0;36m<module>\u001b[0;34m\u001b[0m\n\u001b[0;32m----> 1\u001b[0;31m \u001b[0mpl\u001b[0m\u001b[0;34m.\u001b[0m\u001b[0msubplot\u001b[0m\u001b[0;34m(\u001b[0m\u001b[0;36m3\u001b[0m\u001b[0;34m,\u001b[0m \u001b[0;36m2\u001b[0m\u001b[0;34m,\u001b[0m \u001b[0;36m1\u001b[0m\u001b[0;34m)\u001b[0m\u001b[0;34m\u001b[0m\u001b[0;34m\u001b[0m\u001b[0m\n\u001b[0m\u001b[1;32m      2\u001b[0m \u001b[0mpl\u001b[0m\u001b[0;34m.\u001b[0m\u001b[0mplot\u001b[0m\u001b[0;34m(\u001b[0m\u001b[0mdata\u001b[0m\u001b[0;34m[\u001b[0m\u001b[0;34m'x'\u001b[0m\u001b[0;34m]\u001b[0m\u001b[0;34m,\u001b[0m \u001b[0mdata\u001b[0m\u001b[0;34m[\u001b[0m\u001b[0;34m'sine'\u001b[0m\u001b[0;34m]\u001b[0m\u001b[0;34m,\u001b[0m\u001b[0mlabel\u001b[0m \u001b[0;34m=\u001b[0m \u001b[0;34m'sine'\u001b[0m \u001b[0;34m)\u001b[0m\u001b[0;34m\u001b[0m\u001b[0;34m\u001b[0m\u001b[0m\n\u001b[1;32m      3\u001b[0m \u001b[0mpl\u001b[0m\u001b[0;34m.\u001b[0m\u001b[0msubplot\u001b[0m\u001b[0;34m(\u001b[0m\u001b[0;36m3\u001b[0m\u001b[0;34m,\u001b[0m \u001b[0;36m2\u001b[0m\u001b[0;34m,\u001b[0m \u001b[0;36m2\u001b[0m\u001b[0;34m)\u001b[0m\u001b[0;34m\u001b[0m\u001b[0;34m\u001b[0m\u001b[0m\n\u001b[1;32m      4\u001b[0m \u001b[0mpl\u001b[0m\u001b[0;34m.\u001b[0m\u001b[0mplot\u001b[0m\u001b[0;34m(\u001b[0m\u001b[0mdata\u001b[0m\u001b[0;34m[\u001b[0m\u001b[0;34m'x'\u001b[0m\u001b[0;34m]\u001b[0m\u001b[0;34m,\u001b[0m \u001b[0mdata\u001b[0m\u001b[0;34m[\u001b[0m\u001b[0;34m'cosine'\u001b[0m\u001b[0;34m]\u001b[0m\u001b[0;34m,\u001b[0m\u001b[0mlabel\u001b[0m \u001b[0;34m=\u001b[0m \u001b[0;34m'cosine'\u001b[0m\u001b[0;34m,\u001b[0m \u001b[0mcolor\u001b[0m \u001b[0;34m=\u001b[0m \u001b[0;34m'g'\u001b[0m \u001b[0;34m)\u001b[0m\u001b[0;34m\u001b[0m\u001b[0;34m\u001b[0m\u001b[0m\n\u001b[1;32m      5\u001b[0m \u001b[0mpl\u001b[0m\u001b[0;34m.\u001b[0m\u001b[0msubplot\u001b[0m\u001b[0;34m(\u001b[0m\u001b[0;36m3\u001b[0m\u001b[0;34m,\u001b[0m \u001b[0;36m2\u001b[0m\u001b[0;34m,\u001b[0m \u001b[0;36m3\u001b[0m\u001b[0;34m)\u001b[0m\u001b[0;34m\u001b[0m\u001b[0;34m\u001b[0m\u001b[0m\n",
      "\u001b[0;31mNameError\u001b[0m: name 'pl' is not defined"
     ]
    }
   ],
   "source": [
    "pl.subplot(3, 2, 1)\n",
    "pl.plot(data['x'], data['sine'],label = 'sine' )\n",
    "pl.subplot(3, 2, 2)\n",
    "pl.plot(data['x'], data['cosine'],label = 'cosine', color = 'g' )\n",
    "pl.subplot(3, 2, 3)\n",
    "pl.plot(data['x'], data['cosine'],label = 'cosine', color = 'r' )\n",
    "pl.xlim(-5,5)\n",
    "pl.subplot(3, 2, 4)\n",
    "pl.plot(data['x'], data['cosine']*2,label = 'cosine', color = 'y' )\n",
    "pl.subplot(3, 2,5)\n",
    "pl.xlabel('x')\n",
    "pl.plot(data['x'], data['cosine'],label = 'cosine', color = 'b' )\n",
    "pl.subplot(3, 2, 6)\n",
    "pl.plot(data['x'], data['cosine'],label = 'cosine', color = 'c' )\n",
    "pl.xlabel('z');\n",
    "pl.xlim(-7,7);"
   ]
  },
  {
   "cell_type": "code",
   "execution_count": 84,
   "metadata": {},
   "outputs": [
    {
     "data": {
      "image/png": "[encoded data removed]",
      "text/plain": [
       "<Figure size 640x960 with 6 Axes>"
      ]
     },
     "metadata": {
      "needs_background": "light"
     },
     "output_type": "display_data"
    }
   ],
   "source": [
    "pl.figure(figsize=(8, 12), dpi=80)\n",
    "pl.subplot(3, 2, 1)\n",
    "pl.xlabel('x')\n",
    "pl.plot(data['x'], data['sine'],label = 'sine' )\n",
    "pl.subplot(3, 2, 2)\n",
    "pl.plot(data['x'], data['cosine'],label = 'cosine', color = 'g',linestyle = '--' )\n",
    "pl.xlabel('x')\n",
    "#pl.ylabel('cos(x)')\n",
    "pl.subplot(3, 2, 3)\n",
    "pl.plot(data['x'], data['cosine'],label = 'cosine', color = 'r' )\n",
    "pl.xlim(-5,5)\n",
    "pl.subplot(3, 2, 4)\n",
    "pl.plot(data['x'], data['cosine']*2,label = 'cosine', color = 'y', marker = 'o', linestyle = '' )\n",
    "pl.subplot(3, 2,5)\n",
    "pl.xlabel('x')\n",
    "pl.plot(data['x'], data['cosine'],label = 'cosine', color = 'b', marker = '+', linestyle = '' )\n",
    "pl.subplot(3, 2, 6)\n",
    "pl.plot(data['x'], data['cosine'],label = 'cosine', color = 'c' )\n",
    "pl.xlabel('z');\n",
    "pl.xlim(-7,7);\n"
   ]
  },
  {
   "cell_type": "markdown",
   "metadata": {
    "id": "A7ZBBlrkNUjO"
   },
   "source": [
    "## 2.3 Histogramas \n",
    "La primera vez que trabajamos con unos datos nuevos es muy útil ver su distribución. Para eso usamos los histogramas: "
   ]
  },
  {
   "cell_type": "code",
   "execution_count": 85,
   "metadata": {},
   "outputs": [
    {
     "data": {
      "image/png": "[encoded data removed]",
      "text/plain": [
       "<Figure size 432x288 with 1 Axes>"
      ]
     },
     "metadata": {
      "needs_background": "light"
     },
     "output_type": "display_data"
    }
   ],
   "source": [
    "muestra1 = np.random.normal(0, 1, 1000)\n",
    "pl.hist(muestra1);"
   ]
  },
  {
   "cell_type": "code",
   "execution_count": 86,
   "metadata": {},
   "outputs": [
    {
     "data": {
      "image/png": "[encoded data removed]",
      "text/plain": [
       "<Figure size 432x288 with 1 Axes>"
      ]
     },
     "metadata": {
      "needs_background": "light"
     },
     "output_type": "display_data"
    }
   ],
   "source": [
    "muestra2 = np.random.uniform(0, 1, 1000)\n",
    "pl.hist(muestra2);"
   ]
  },
  {
   "cell_type": "markdown",
   "metadata": {
    "id": "sHgEQjc9NXqu"
   },
   "source": [
    "Viendo el gráfico vemos más claramente como se comportan los datos que si solo hubiéramos calculado la media y la dispersión por ejemplo. \n",
    "\n",
    "En los histogramas también podemos cambiar el color o el número de bines: "
   ]
  },
  {
   "cell_type": "code",
   "execution_count": 87,
   "metadata": {
    "colab": {
     "base_uri": "https://localhost:8080/",
     "height": 35
    },
    "id": "ftWVK4F5NurY",
    "outputId": "a6a20fd1-5308-404e-f18e-8f9f601f478e"
   },
   "outputs": [
    {
     "data": {
      "image/png": "[encoded data removed]",
      "text/plain": [
       "<Figure size 432x288 with 1 Axes>"
      ]
     },
     "metadata": {
      "needs_background": "light"
     },
     "output_type": "display_data"
    }
   ],
   "source": [
    "pl.hist(muestra1, color = 'g', bins = 20);"
   ]
  },
  {
   "cell_type": "markdown",
   "metadata": {
    "id": "UPiglKyWN3fp"
   },
   "source": [
    "También lo podemos mostrar normalizado, y cambiar la transparencia, cosas muy útil para comparar una muestra con otra en una misma gráfica: "
   ]
  },
  {
   "cell_type": "code",
   "execution_count": 88,
   "metadata": {
    "colab": {
     "base_uri": "https://localhost:8080/",
     "height": 35
    },
    "id": "wt4xInaUN5lM",
    "outputId": "1a3b3b51-1c04-4cc2-cc84-0d5108fcf280"
   },
   "outputs": [
    {
     "data": {
      "image/png": "[encoded data removed]",
      "text/plain": [
       "<Figure size 432x288 with 1 Axes>"
      ]
     },
     "metadata": {
      "needs_background": "light"
     },
     "output_type": "display_data"
    }
   ],
   "source": [
    "pl.hist(muestra1, alpha = 0.5, density = True, color = 'g', label = 'muestra1');\n",
    "pl.hist(muestra2, alpha = 0.5, density = True, color = 'b', label = 'muestra2');\n",
    "pl.legend();"
   ]
  },
  {
   "cell_type": "markdown",
   "metadata": {},
   "source": [
    "Los valores de los histogramas se pueden guardar: "
   ]
  },
  {
   "cell_type": "code",
   "execution_count": 89,
   "metadata": {},
   "outputs": [
    {
     "data": {
      "image/png": "[encoded data removed]",
      "text/plain": [
       "<Figure size 432x288 with 1 Axes>"
      ]
     },
     "metadata": {
      "needs_background": "light"
     },
     "output_type": "display_data"
    }
   ],
   "source": [
    "values = pl.hist(muestra1)"
   ]
  },
  {
   "cell_type": "code",
   "execution_count": 90,
   "metadata": {},
   "outputs": [
    {
     "name": "stdout",
     "output_type": "stream",
     "text": [
      "[ 18.  33. 112. 193. 254. 208. 116.  50.  12.   4.]\n",
      "[-2.93825895 -2.2876234  -1.63698785 -0.9863523  -0.33571676  0.31491879\n",
      "  0.96555434  1.61618989  2.26682543  2.91746098  3.56809653]\n"
     ]
    }
   ],
   "source": [
    "print(values[0]) # valor en eje y de cada bin\n",
    "print(values[1]) # valor central bines eje x"
   ]
  },
  {
   "cell_type": "markdown",
   "metadata": {},
   "source": [
    "## 2.4  Otros\n",
    "**Matplotlib** presenta muchas posibilidades, vemos aquí algunos otros ejemplos de gráficos que pueden ser útiles\n",
    "Con `pyplot` también se pueden hacer gráficas en 3 dimensiones. Ponemos un ejemplo aquí:"
   ]
  },
  {
   "cell_type": "code",
   "execution_count": 98,
   "metadata": {},
   "outputs": [
    {
     "data": {
      "image/png": "[encoded data removed]",
      "text/plain": [
       "<Figure size 576x432 with 1 Axes>"
      ]
     },
     "metadata": {},
     "output_type": "display_data"
    }
   ],
   "source": [
    "# forma de tarta\n",
    "cars = ['AUDI', 'BMW', 'FORD',\n",
    "        'TESLA', 'JAGUAR', 'MERCEDES']\n",
    "  \n",
    "data = [23, 17, 35, 29, 12, 41]\n",
    "  \n",
    "# Creating plot\n",
    "fig = pl.figure(figsize =(8, 6))\n",
    "pl.pie(data, labels = cars);"
   ]
  },
  {
   "cell_type": "code",
   "execution_count": 99,
   "metadata": {},
   "outputs": [
    {
     "data": {
      "image/png": "[encoded data removed]",
      "text/plain": [
       "<Figure size 360x288 with 1 Axes>"
      ]
     },
     "metadata": {
      "needs_background": "light"
     },
     "output_type": "display_data"
    }
   ],
   "source": [
    "# boxplot \n",
    "# Da información estadística resumida:\n",
    "# minimo, primer cuartil, mediana, tercer cuartil y el máximo\n",
    "np.random.seed(10)\n",
    "data = np.random.normal(100, 20, 200)\n",
    " \n",
    "fig = pl.figure(figsize =(5, 4))\n",
    " \n",
    "# Creating plot\n",
    "pl.boxplot(data);"
   ]
  },
  {
   "cell_type": "code",
   "execution_count": 100,
   "metadata": {},
   "outputs": [
    {
     "data": {
      "image/png": "[encoded data removed]",
      "text/plain": [
       "<Figure size 432x288 with 1 Axes>"
      ]
     },
     "metadata": {
      "needs_background": "light"
     },
     "output_type": "display_data"
    }
   ],
   "source": [
    "# Barras de error\n",
    "x = np.linspace(0, 10, 50)\n",
    "dy = 0.8\n",
    "y = np.sin(x) + dy * np.random.randn(50)\n",
    "\n",
    "pl.errorbar(x, y, yerr=dy, fmt='.k');\n"
   ]
  },
  {
   "cell_type": "code",
   "execution_count": 92,
   "metadata": {},
   "outputs": [
    {
     "data": {
      "image/png": "[encoded data removed]",
      "text/plain": [
       "<Figure size 432x288 with 1 Axes>"
      ]
     },
     "metadata": {
      "needs_background": "light"
     },
     "output_type": "display_data"
    }
   ],
   "source": [
    "# 3D\n",
    "fig = pl.figure()\n",
    "ax =  pl.axes(projection='3d')\n",
    "theta = np.linspace(-4 * np.pi, 4 * np.pi, 100)\n",
    "z = np.linspace(-2, 2, 100)\n",
    "r = z**2 + 1\n",
    "x = r * np.sin(theta)\n",
    "y = r * np.cos(theta)\n",
    "# tenemos coordenadas x,y,z\n",
    "ax.plot(x, y, z, label='Curva parametrica')\n",
    "ax.legend();"
   ]
  },
  {
   "cell_type": "markdown",
   "metadata": {
    "id": "CNCyXiTMN95A"
   },
   "source": [
    "## 3. Ejercicios para practicar"
   ]
  },
  {
   "cell_type": "markdown",
   "metadata": {},
   "source": [
    "1. Crea 3 arrays con numpy uno que contenga 100 cincos. Otros que contenga valores de 15 a 155 (incluyendo el ambos), en intervalos de 5 (15, 20, 25) y otro que contenga 100 números aleatorios que sigan una distribución de Poisson."
   ]
  },
  {
   "cell_type": "code",
   "execution_count": 5,
   "metadata": {},
   "outputs": [],
   "source": [
    "# Respuesta"
   ]
  },
  {
   "cell_type": "markdown",
   "metadata": {},
   "source": [
    "2. Haz una lista con el número de horas a la semana que pasas en el trabajo, durmiendo, dedicas a cosas placenteras para tí y las horas que dedicas a otro tipo de responsabilidades. Haz un gráfico de en forma de tarta que lo represente. "
   ]
  },
  {
   "cell_type": "code",
   "execution_count": null,
   "metadata": {},
   "outputs": [],
   "source": [
    "# Código"
   ]
  },
  {
   "cell_type": "markdown",
   "metadata": {},
   "source": [
    "3. Carga con `loadtxt` el fichero fdata.csv. Este fichero da la cotización de una empresa para 4 días (del 3 al 6 de octubre), con información de la fecha, datos de la apertura, los máximos, los mínimos, y los de cierre, en este orden en el file. (Necesitaras usar la opcion delimiter = ',' en loadtxt)\n",
    "\n",
    "3.1. Haz un plot donde aparezcan los datos de apertura, maximo, minimo y cierre respecto a la fecha con distintos colores y con su leyenda, nombre de los ejes. \n",
    "\n",
    "3.2. Haz las mismas gráficas pero ahora en 4 gráficos distintos, donde se entienda claramente que se representa en cada  subplot. \n",
    "\n",
    "Comprueba que las gráficas se ven correctamente y guárdalas. "
   ]
  },
  {
   "cell_type": "code",
   "execution_count": 6,
   "metadata": {},
   "outputs": [],
   "source": [
    "# Respuesta"
   ]
  },
  {
   "cell_type": "markdown",
   "metadata": {
    "colab": {
     "base_uri": "https://localhost:8080/",
     "height": 35
    },
    "id": "fMApDpl6OBVL",
    "outputId": "4150110d-5616-4fcc-a4a4-ef6df188dedc"
   },
   "source": [
    "4. Descara el fichero [núcleos de población](https://raw.githubusercontent.com/blancojc/pythonforbigdata/master/UC_Curso_de_Verano/Dia2/Pandas/Ejercicio1/Centroides_NucleosPoblacion.csv) y responde a las siguientes preguntas:\n",
    "\n",
    "* Cuantos municipios tienen menos de 11000 habitantes? \n",
    "\n",
    "* Haz un programa que encuentre cuántos habitantes suman los municipios de un mismo código postal. \n",
    "\n",
    "* Haz una gráfica con eje x código postal y eje y la suma de habitantes de sus municipios. Añade un título en la gráfica (busca como se hace en la documentación de [pyplot.plot](https://matplotlib.org/stable/api/_as_gen/matplotlib.pyplot.plot.html))\n",
    "\n",
    "Os será más fácil leer el archivo con pandas, pero pasa la columna con la que vayas a trabajar a un array y encuentra el resultado con numpy.\n",
    "\n",
    "4.1 Si quieres repite el ejercicio pero solo usando pandas. \n"
   ]
  },
  {
   "cell_type": "code",
   "execution_count": 7,
   "metadata": {},
   "outputs": [],
   "source": [
    "# Código "
   ]
  },
  {
   "cell_type": "markdown",
   "metadata": {},
   "source": []
  },
  {
   "cell_type": "code",
   "execution_count": null,
   "metadata": {},
   "outputs": [],
   "source": []
  },
  {
   "cell_type": "code",
   "execution_count": null,
   "metadata": {},
   "outputs": [],
   "source": []
  },
  {
   "cell_type": "code",
   "execution_count": null,
   "metadata": {},
   "outputs": [],
   "source": []
  }
 ],
 "metadata": {
  "colab": {
   "collapsed_sections": [],
   "name": "Esdatistica_descriptiva.ipynb",
   "provenance": []
  },
  "kernelspec": {
   "display_name": "Python 3",
   "language": "python",
   "name": "python3"
  },
  "language_info": {
   "codemirror_mode": {
    "name": "ipython",
    "version": 3
   },
   "file_extension": ".py",
   "mimetype": "text/x-python",
   "name": "python",
   "nbconvert_exporter": "python",
   "pygments_lexer": "ipython3",
   "version": "3.6.5"
  }
 },
 "nbformat": 4,
 "nbformat_minor": 1
}
